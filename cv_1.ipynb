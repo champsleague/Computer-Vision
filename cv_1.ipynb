{
  "nbformat": 4,
  "nbformat_minor": 0,
  "metadata": {
    "colab": {
      "provenance": [],
      "authorship_tag": "ABX9TyOSKBQbz1TJphXkXnhWlgns",
      "include_colab_link": true
    },
    "kernelspec": {
      "name": "python3",
      "display_name": "Python 3"
    },
    "language_info": {
      "name": "python"
    }
  },
  "cells": [
    {
      "cell_type": "markdown",
      "metadata": {
        "id": "view-in-github",
        "colab_type": "text"
      },
      "source": [
        "<a href=\"https://colab.research.google.com/github/champsleague/Computer-Vision/blob/main/cv_1.ipynb\" target=\"_parent\"><img src=\"https://colab.research.google.com/assets/colab-badge.svg\" alt=\"Open In Colab\"/></a>"
      ]
    },
    {
      "cell_type": "code",
      "execution_count": null,
      "metadata": {
        "id": "ZUkzjcUdQlAe"
      },
      "outputs": [],
      "source": [
        "import cv2\n",
        "\n",
        "img = cv2.imread('test.jpg')\n",
        "\n",
        "blueChannel = img[:, :, 0]\n",
        "greenChannel = img[:, :, 1]\n",
        "redChannel = img[:, :, 2]\n",
        "\n",
        "cv2.imshow('Original image', img)\n",
        "cv2.imshow('Blue channel', blueChannel)\n",
        "cv2.imshow('Green channel', greenChannel)\n",
        "cv2.imshow('Red channel', redChannel)\n",
        "cv2.waitKey(0)\n",
        "cv2.destroyAllWindows()\n",
        "\n",
        "# https://lindevs.com/extract-individual-channels-from-rgb-image-using-opencv"
      ]
    }
  ]
}